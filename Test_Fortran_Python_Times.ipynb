{
 "cells": [
  {
   "cell_type": "code",
   "execution_count": 9,
   "metadata": {
    "collapsed": false
   },
   "outputs": [
    {
     "name": "stdout",
     "output_type": "stream",
     "text": [
      "Populating the interactive namespace from numpy and matplotlib\n"
     ]
    }
   ],
   "source": [
    "%pylab inline"
   ]
  },
  {
   "cell_type": "code",
   "execution_count": 10,
   "metadata": {
    "collapsed": false
   },
   "outputs": [],
   "source": [
    "from halomod import halo_model\n",
    "from halomod.fort.routines import hod_routines as fort\n",
    "from scipy.integrate import trapz,simps"
   ]
  },
  {
   "cell_type": "code",
   "execution_count": 11,
   "metadata": {
    "collapsed": false
   },
   "outputs": [],
   "source": [
    "h = halo_model.HaloModel(rnum=50,halo_exclusion=\"NgMatched\")"
   ]
  },
  {
   "cell_type": "markdown",
   "metadata": {},
   "source": [
    "## P(k) 1h s-s"
   ]
  },
  {
   "cell_type": "markdown",
   "metadata": {},
   "source": [
    "#### FORTRAN"
   ]
  },
  {
   "cell_type": "code",
   "execution_count": 4,
   "metadata": {
    "collapsed": true
   },
   "outputs": [],
   "source": [
    "def fortran_pk_1h_ss():\n",
    "    ## USE FORTRAN\n",
    "    u = h.profile.u(h.k, h.M, norm='m')\n",
    "    p = fort.power_gal_1h_ss(nlnk=len(h.k),\n",
    "                             nm=len(h.M),\n",
    "                             u=np.asfortranarray(u),\n",
    "                             dndm=h.dndm.value,\n",
    "                             nsat=h.n_sat,\n",
    "                             ncen=h.n_cen,\n",
    "                             mass=h.M.value,\n",
    "                             central=h.hod._central)\n",
    "    return p"
   ]
  },
  {
   "cell_type": "code",
   "execution_count": 5,
   "metadata": {
    "collapsed": false
   },
   "outputs": [
    {
     "name": "stdout",
     "output_type": "stream",
     "text": [
      "The slowest run took 53.20 times longer than the fastest. This could mean that an intermediate result is being cached \n",
      "1 loops, best of 3: 63.7 ms per loop\n"
     ]
    }
   ],
   "source": [
    "%timeit fortran_pk_1h_ss()"
   ]
  },
  {
   "cell_type": "markdown",
   "metadata": {},
   "source": [
    "#### Python"
   ]
  },
  {
   "cell_type": "code",
   "execution_count": 6,
   "metadata": {
    "collapsed": true
   },
   "outputs": [],
   "source": [
    "def python_pk_1h_ss():\n",
    "    u = h.profile.u(h.k, h.M, norm='m')\n",
    "    integ = u**2 * h.dndm * h.M * h.n_sat**2\n",
    "    if h.hod._central:\n",
    "        integ *= h.n_cen\n",
    "\n",
    "    p = trapz(integ,dx=h.dlog10m*np.log(10))\n",
    "    return p"
   ]
  },
  {
   "cell_type": "code",
   "execution_count": 7,
   "metadata": {
    "collapsed": false
   },
   "outputs": [
    {
     "name": "stdout",
     "output_type": "stream",
     "text": [
      "10 loops, best of 3: 70.7 ms per loop\n"
     ]
    }
   ],
   "source": [
    "%timeit python_pk_1h_ss()"
   ]
  },
  {
   "cell_type": "markdown",
   "metadata": {},
   "source": [
    "#### Test Equivalence"
   ]
  },
  {
   "cell_type": "code",
   "execution_count": 8,
   "metadata": {
    "collapsed": false
   },
   "outputs": [
    {
     "name": "stdout",
     "output_type": "stream",
     "text": [
      "0.998889847714 h3 / Mpc3 1.00147130351 h3 / Mpc3 1.00000033314 h3 / Mpc3\n"
     ]
    }
   ],
   "source": [
    "ratio = python_pk_1h_ss()/fortran_pk_1h_ss()\n",
    "print ratio.min(), ratio.max(), nanmean(ratio)"
   ]
  },
  {
   "cell_type": "markdown",
   "metadata": {},
   "source": [
    "## xi(r) 1h cs"
   ]
  },
  {
   "cell_type": "markdown",
   "metadata": {},
   "source": [
    "#### FORTRAN"
   ]
  },
  {
   "cell_type": "code",
   "execution_count": 9,
   "metadata": {
    "collapsed": true
   },
   "outputs": [],
   "source": [
    "def fortran_xir_1h_cs():\n",
    "    rho = h.profile.rho(h.r, h.M, norm=\"m\")\n",
    "    c = fort.corr_gal_1h_cs(nr=len(h.r),\n",
    "                        nm=len(h.M),\n",
    "                        r=h.r.value,\n",
    "                        mass=h.M.value,\n",
    "                        dndm=h.dndm.value,\n",
    "                        ncen=h.n_cen,\n",
    "                        nsat=h.n_sat,\n",
    "                        rho=np.asfortranarray(rho),\n",
    "                        mean_dens=h.mean_density0.value,\n",
    "                        delta_halo=h.delta_halo) * h.mean_gal_den.unit ** 2\n",
    "    return c"
   ]
  },
  {
   "cell_type": "code",
   "execution_count": 10,
   "metadata": {
    "collapsed": false
   },
   "outputs": [
    {
     "name": "stdout",
     "output_type": "stream",
     "text": [
      "The slowest run took 13.38 times longer than the fastest. This could mean that an intermediate result is being cached \n",
      "100 loops, best of 3: 2.24 ms per loop\n"
     ]
    }
   ],
   "source": [
    "%timeit fortran_xir_1h_cs()"
   ]
  },
  {
   "cell_type": "markdown",
   "metadata": {},
   "source": [
    "#### Python"
   ]
  },
  {
   "cell_type": "code",
   "execution_count": 11,
   "metadata": {
    "collapsed": false
   },
   "outputs": [],
   "source": [
    "def python_xir_1h_cs():\n",
    "    rho = h.profile.rho(h.r, h.M, norm=\"m\")\n",
    "    mmin = 4*np.pi * h.r**3 * h.mean_density * h.delta_halo/3\n",
    "    mask = np.repeat(h.M,len(h.r)).reshape(len(h.M),len(h.r)) < mmin\n",
    "    integ = h.dndm * 2 * h.n_cen * h.n_sat * rho * h.M\n",
    "    integ[mask.T] = 0\n",
    "    return trapz(integ,dx=h.dlog10m*np.log(10))"
   ]
  },
  {
   "cell_type": "code",
   "execution_count": 12,
   "metadata": {
    "collapsed": false
   },
   "outputs": [
    {
     "name": "stdout",
     "output_type": "stream",
     "text": [
      "100 loops, best of 3: 4 ms per loop\n"
     ]
    }
   ],
   "source": [
    "%timeit python_xir_1h_cs()"
   ]
  },
  {
   "cell_type": "markdown",
   "metadata": {},
   "source": [
    "#### Test Equivalence"
   ]
  },
  {
   "cell_type": "code",
   "execution_count": 13,
   "metadata": {
    "collapsed": false
   },
   "outputs": [
    {
     "name": "stdout",
     "output_type": "stream",
     "text": [
      "0.75021624166 1.49997868046 1.01344529707\n"
     ]
    },
    {
     "name": "stderr",
     "output_type": "stream",
     "text": [
      "/Users/Steven/anaconda/lib/python2.7/site-packages/astropy/units/quantity.py:785: RuntimeWarning: invalid value encountered in true_divide\n",
      "  return np.true_divide(self, other)\n"
     ]
    }
   ],
   "source": [
    "ratio = python_xir_1h_cs()/fortran_xir_1h_cs()\n",
    "print nanmin(ratio), nanmax(ratio), nanmean(ratio)"
   ]
  },
  {
   "cell_type": "markdown",
   "metadata": {},
   "source": [
    "## xi(r) 1h Total"
   ]
  },
  {
   "cell_type": "markdown",
   "metadata": {},
   "source": [
    "#### FORTRAN"
   ]
  },
  {
   "cell_type": "code",
   "execution_count": 12,
   "metadata": {
    "collapsed": true
   },
   "outputs": [],
   "source": [
    "def fortran_xir_1h():        \n",
    "    rho = h.profile.rho(h.r, h.M, norm=\"m\")\n",
    "    lam = h.profile.lam(h.r, h.M, norm=\"m\")\n",
    "    c = fort.corr_gal_1h(nr=len(h.r),\n",
    "                         nm=len(h.M),\n",
    "                         r=h.r.value,\n",
    "                         mass=h.M.value,\n",
    "                         dndm=h.dndm.value,\n",
    "                         ncen=h.n_cen,\n",
    "                         nsat=h.n_sat,\n",
    "                         rho=np.asfortranarray(rho),\n",
    "                         lam=np.asfortranarray(lam),\n",
    "                         central=h.hod._central,\n",
    "                         mean_dens=h.mean_density0.value,\n",
    "                         delta_halo=h.delta_halo) * h.mean_gal_den.unit ** 2\n",
    "    return c"
   ]
  },
  {
   "cell_type": "code",
   "execution_count": 13,
   "metadata": {
    "collapsed": false
   },
   "outputs": [
    {
     "name": "stdout",
     "output_type": "stream",
     "text": [
      "The slowest run took 389.03 times longer than the fastest. This could mean that an intermediate result is being cached \n",
      "1 loops, best of 3: 8.4 ms per loop\n"
     ]
    }
   ],
   "source": [
    "%timeit fortran_xir_1h()"
   ]
  },
  {
   "cell_type": "markdown",
   "metadata": {},
   "source": [
    "#### Python"
   ]
  },
  {
   "cell_type": "code",
   "execution_count": 14,
   "metadata": {
    "collapsed": true
   },
   "outputs": [],
   "source": [
    "def python_xir_1h(): \n",
    "    rho = h.profile.rho(h.r, h.M, norm=\"m\")\n",
    "    lam = h.profile.lam(h.r, h.M, norm=\"m\")\n",
    "    \n",
    "    integ = h.dndm * h.n_sat**2 * lam\n",
    "    if h.hod._central:\n",
    "        integ *= h.n_cen\n",
    "\n",
    "    mmin = 4*np.pi*h.r**3*h.mean_density*h.delta_halo/3\n",
    "    mask = np.repeat(h.M,len(h.r)).reshape(len(h.M),len(h.r)) > mmin\n",
    "    #print np.sum(mask,axis=0)\n",
    "    integ2 = h.dndm*2 * h.n_cen*h.n_sat*rho\n",
    "    integ[mask.T] += integ2[mask.T]\n",
    "\n",
    "    integ *= h.M\n",
    "\n",
    "    c = simps(integ,dx=h.dlog10m*np.log(10))\n",
    "    return c"
   ]
  },
  {
   "cell_type": "code",
   "execution_count": 15,
   "metadata": {
    "collapsed": false
   },
   "outputs": [
    {
     "name": "stdout",
     "output_type": "stream",
     "text": [
      "100 loops, best of 3: 10.9 ms per loop\n"
     ]
    }
   ],
   "source": [
    "%timeit python_xir_1h()"
   ]
  },
  {
   "cell_type": "markdown",
   "metadata": {},
   "source": [
    "#### Test Equivalence"
   ]
  },
  {
   "cell_type": "code",
   "execution_count": 16,
   "metadata": {
    "collapsed": false
   },
   "outputs": [
    {
     "name": "stdout",
     "output_type": "stream",
     "text": [
      "0.752327444668 Mpc6 / h6 1.49993765741 Mpc6 / h6 1.01073095601 Mpc6 / h6\n"
     ]
    },
    {
     "name": "stderr",
     "output_type": "stream",
     "text": [
      "/Users/Steven/anaconda/lib/python2.7/site-packages/astropy/units/quantity.py:802: RuntimeWarning: invalid value encountered in divide\n",
      "  return np.divide(other, self)\n"
     ]
    }
   ],
   "source": [
    "ratio = python_xir_1h()/fortran_xir_1h()\n",
    "print nanmin(ratio), nanmax(ratio), nanmean(ratio)"
   ]
  },
  {
   "cell_type": "code",
   "execution_count": 17,
   "metadata": {
    "collapsed": false
   },
   "outputs": [
    {
     "data": {
      "image/png": "[encoded data removed]",
      "text/plain": [
       "<matplotlib.figure.Figure at 0x111e6cb50>"
      ]
     },
     "metadata": {},
     "output_type": "display_data"
    }
   ],
   "source": [
    "plot(h.r,ratio)\n",
    "xscale('log')"
   ]
  },
  {
   "cell_type": "code",
   "execution_count": 19,
   "metadata": {
    "collapsed": false
   },
   "outputs": [
    {
     "data": {
      "text/plain": [
       "(1e-05, 100.0)"
      ]
     },
     "execution_count": 19,
     "metadata": {},
     "output_type": "execute_result"
    },
    {
     "data": {
      "image/png": "[encoded data removed]",
      "text/plain": [
       "<matplotlib.figure.Figure at 0x111a3f190>"
      ]
     },
     "metadata": {},
     "output_type": "display_data"
    }
   ],
   "source": [
    "plot(h.r,python_xir_1h())\n",
    "plot(h.r,fortran_xir_1h())\n",
    "xscale('log')\n",
    "yscale('log')\n",
    "ylim((1e-5,100.0))"
   ]
  },
  {
   "cell_type": "markdown",
   "metadata": {
    "collapsed": true
   },
   "source": [
    "## Two-halo Term"
   ]
  },
  {
   "cell_type": "code",
   "execution_count": 8,
   "metadata": {
    "collapsed": true
   },
   "outputs": [],
   "source": [
    "from halomod.twohalo_wrapper import twohalo_wrapper as thalo\n",
    "def fortran_2halo():       \n",
    "    u = h.profile.u(h.k, h.M , norm='m')\n",
    "    return thalo(\"ng_matched\", True,\n",
    "                 h.M.value, h.bias, h.n_tot,\n",
    "                 h.dndm.value, np.log(h.k.value),\n",
    "                 h._power_halo_centres.value, u, h.r.value, h.corr_mm_base,\n",
    "                 h.mean_gal_den.value, h.delta_halo,\n",
    "                 h.mean_density.value, h.nthreads_2halo)\n",
    "    "
   ]
  },
  {
   "cell_type": "code",
   "execution_count": 11,
   "metadata": {
    "collapsed": false
   },
   "outputs": [
    {
     "name": "stdout",
     "output_type": "stream",
     "text": [
      "10 loops, best of 3: 76.3 ms per loop\n"
     ]
    }
   ],
   "source": [
    "%timeit fortran_2halo()"
   ]
  },
  {
   "cell_type": "code",
   "execution_count": 4,
   "metadata": {
    "collapsed": false
   },
   "outputs": [],
   "source": [
    "from halomod import tools\n",
    "def python_2halo():\n",
    "    ### POWER PART\n",
    "    u = h.profile.u(h.k,h.M,norm=\"m\")\n",
    "    if h.scale_dependent_bias is not None:\n",
    "        bias = np.outer(h.sd_bias.bias_scale(),h.bias)\n",
    "    else:\n",
    "        bias = h.bias\n",
    "    inst = h.halo_exclusion(m=h.M,density=h.n_tot*h.dndm,\n",
    "                            I=h.n_tot*h.dndm*u/h.mean_gal_den,\n",
    "                            bias=bias,r=h.r,delta_halo=h.delta_halo,\n",
    "                            mean_density=h.mean_density)\n",
    "\n",
    "    if hasattr(inst,\"density_mod\"):\n",
    "        __density_mod = inst.density_mod\n",
    "    else:\n",
    "        __density_mod = h.mean_gal_den\n",
    "\n",
    "    power_gg_2h= inst.integrate() * h._power_halo_centres\n",
    "\n",
    "    if len(power_gg_2h.shape)==2:\n",
    "        corr = tools.power_to_corr_ogata_matrix(power_gg_2h,h.k.value,h.r)\n",
    "    else:\n",
    "        corr = tools.power_to_corr_ogata(power_gg_2h,h.k.value,h.r)\n",
    "\n",
    "    ## modify by the new density\n",
    "    return (__density_mod/h.mean_gal_den)**2 * (1+corr)-1"
   ]
  },
  {
   "cell_type": "code",
   "execution_count": 10,
   "metadata": {
    "collapsed": false
   },
   "outputs": [
    {
     "name": "stdout",
     "output_type": "stream",
     "text": [
      "1 loops, best of 3: 1.97 s per loop\n"
     ]
    }
   ],
   "source": [
    "%timeit python_2halo()"
   ]
  },
  {
   "cell_type": "markdown",
   "metadata": {},
   "source": [
    "### Equivalence Test"
   ]
  },
  {
   "cell_type": "code",
   "execution_count": 11,
   "metadata": {
    "collapsed": false
   },
   "outputs": [
    {
     "data": {
      "text/plain": [
       "[<matplotlib.lines.Line2D at 0x102a8a450>]"
      ]
     },
     "execution_count": 11,
     "metadata": {},
     "output_type": "execute_result"
    },
    {
     "data": {
      "image/png": "[encoded data removed]",
      "text/plain": [
       "<matplotlib.figure.Figure at 0x106957350>"
      ]
     },
     "metadata": {},
     "output_type": "display_data"
    }
   ],
   "source": [
    "py = python_2halo()\n",
    "fort = fortran_2halo()\n",
    "\n",
    "fig,ax = plt.subplots(2,1,sharex=True,subplot_kw={\"xscale\":\"log\"},gridspec_kw={\"height_ratios\":(2.5,1)})\n",
    "ax[0].plot(h.r,py,label=\"python\")\n",
    "ax[0].plot(h.r,fort,label=\"fortran\")\n",
    "#ax[0].plot(r,anl,label=\"analytic\")\n",
    "ax[0].legend(loc=0)\n",
    "\n",
    "ax[1].plot(h.r,py/fort)"
   ]
  },
  {
   "cell_type": "markdown",
   "metadata": {},
   "source": [
    "## Matter 2-halo"
   ]
  },
  {
   "cell_type": "code",
   "execution_count": 6,
   "metadata": {
    "collapsed": true
   },
   "outputs": [],
   "source": [
    "def python_m_2halo():\n",
    "    u = h.profile.u(h.k,h.M,norm=\"m\")\n",
    "    if h.scale_dependent_bias is not None:\n",
    "        bias = np.outer(h.sd_bias.bias_scale(),h.bias)\n",
    "    else:\n",
    "        bias = h.bias\n",
    "    inst = h.halo_exclusion(m=h.M,density=h.dndlnm,\n",
    "                            I=h.dndlnm*u/h.rho_gtm[0],\n",
    "                            bias=bias,r=h.r,delta_halo=h.delta_halo,\n",
    "                            mean_density=h.mean_density)\n",
    "\n",
    "    if hasattr(inst,\"density_mod\"):\n",
    "        __density_mod = inst.density_mod\n",
    "    else:\n",
    "        __density_mod = h.rho_gtm[0]\n",
    "\n",
    "    power_mm_2h= inst.integrate() * h._power_halo_centres\n",
    "\n",
    "    if len(power_mm_2h.shape)==2:\n",
    "        corr = tools.power_to_corr_ogata_matrix(power_mm_2h,h.k.value,h.r)\n",
    "    else:\n",
    "        corr = tools.power_to_corr_ogata(power_mm_2h,h.k.value,h.r)\n",
    "\n",
    "    ## modify by the new density\n",
    "    return (__density_mod/h.mean_desnity)**2 * (1+corr)-1"
   ]
  },
  {
   "cell_type": "markdown",
   "metadata": {},
   "source": [
    "For the matter power, it makes more sense to integrate to smaller values of M_min, and we want the overall integrated effective bias to be consistent, so we use the Tinker10 pairing of $n(m)$ and $b(m)$. For comparison purposes, we use the method of Schneider+12."
   ]
  },
  {
   "cell_type": "code",
   "execution_count": 8,
   "metadata": {
    "collapsed": false
   },
   "outputs": [
    {
     "name": "stdout",
     "output_type": "stream",
     "text": [
      "1.0\n",
      "0.872657860541\n"
     ]
    },
    {
     "data": {
      "text/plain": [
       "(1e-05, 100000.0)"
      ]
     },
     "execution_count": 8,
     "metadata": {},
     "output_type": "execute_result"
    },
    {
     "data": {
      "image/png": "[encoded data removed]",
      "text/plain": [
       "<matplotlib.figure.Figure at 0x10cdccfd0>"
      ]
     },
     "metadata": {},
     "output_type": "display_data"
    }
   ],
   "source": [
    "h = halo_model.HaloModel(rnum=50,hod_params={\"M_min\":1.0},mf_fit=\"Tinker10\",bias_model=\"Tinker10\",\n",
    "                         halo_exclusion=\"NoExclusion\",_hc_spectrum=\"filtered-nl\",scale_dependent_bias=None)\n",
    "\n",
    "print log10(h.M[0].value)\n",
    "print h.bias_effective_matter\n",
    "plot(h.k,h.power)\n",
    "plot(h.k,h.nonlinear_power)\n",
    "plot(h.k,h.power_mm_2h)\n",
    "xscale('log')\n",
    "yscale('log')\n",
    "xlim((0.03,30.0))\n",
    "ylim((1e-5,1e5))\n"
   ]
  },
  {
   "cell_type": "code",
   "execution_count": 16,
   "metadata": {
    "collapsed": false
   },
   "outputs": [
    {
     "data": {
      "image/png": "[encoded data removed]",
      "text/plain": [
       "<matplotlib.figure.Figure at 0x10deac8d0>"
      ]
     },
     "metadata": {},
     "output_type": "display_data"
    }
   ],
   "source": [
    "plot(h.M,h.n_tot/h.mean_gal_den)\n",
    "xscale('log')\n",
    "yscale('log')"
   ]
  },
  {
   "cell_type": "code",
   "execution_count": 17,
   "metadata": {
    "collapsed": false
   },
   "outputs": [
    {
     "data": {
      "text/latex": [
       "$1.1091056 \\; \\mathrm{}$"
      ],
      "text/plain": [
       "<Quantity 1.1091056234026908>"
      ]
     },
     "execution_count": 17,
     "metadata": {},
     "output_type": "execute_result"
    }
   ],
   "source": [
    "h.bias_effective"
   ]
  },
  {
   "cell_type": "code",
   "execution_count": 18,
   "metadata": {
    "collapsed": false
   },
   "outputs": [
    {
     "data": {
      "text/latex": [
       "$1.5626403 \\; \\mathrm{}$"
      ],
      "text/plain": [
       "<Quantity 1.5626403431065163>"
      ]
     },
     "execution_count": 18,
     "metadata": {},
     "output_type": "execute_result"
    }
   ],
   "source": [
    "h.bias_effective_matter"
   ]
  },
  {
   "cell_type": "code",
   "execution_count": null,
   "metadata": {
    "collapsed": true
   },
   "outputs": [],
   "source": []
  },
  {
   "cell_type": "code",
   "execution_count": null,
   "metadata": {
    "collapsed": true
   },
   "outputs": [],
   "source": [
    "h."
   ]
  }
 ],
 "metadata": {
  "kernelspec": {
   "display_name": "Python 2",
   "language": "python",
   "name": "python2"
  },
  "language_info": {
   "codemirror_mode": {
    "name": "ipython",
    "version": 2
   },
   "file_extension": ".py",
   "mimetype": "text/x-python",
   "name": "python",
   "nbconvert_exporter": "python",
   "pygments_lexer": "ipython2",
   "version": "2.7.10"
  }
 },
 "nbformat": 4,
 "nbformat_minor": 0
}
