{
 "cells": [
  {
   "cell_type": "markdown",
   "metadata": {},
   "source": [
    "# Determination of Mmin(z) approx."
   ]
  },
  {
   "cell_type": "code",
   "execution_count": 6,
   "metadata": {
    "collapsed": true
   },
   "outputs": [],
   "source": [
    "import numpy as np\n",
    "from matplotlib import pyplot as plt\n",
    "from astropy.cosmology import Planck13\n",
    "%matplotlib inline"
   ]
  },
  {
   "cell_type": "markdown",
   "metadata": {},
   "source": [
    "If we have a lower stellar limit of say $M_0$ at $z=0.05$, then we can calculate the $M_0(z)$ at any other redshift:"
   ]
  },
  {
   "cell_type": "code",
   "execution_count": 4,
   "metadata": {
    "collapsed": false
   },
   "outputs": [],
   "source": [
    "def M0(z,M0_0,z0):\n",
    "    return M0_0 * Planck13.luminosity_distance(z)**2/Planck13.luminosity_distance(z0)**2\n"
   ]
  },
  {
   "cell_type": "code",
   "execution_count": 15,
   "metadata": {
    "collapsed": false
   },
   "outputs": [
    {
     "data": {
      "image/png": "[encoded data removed]",
      "text/plain": [
       "<matplotlib.figure.Figure at 0x109a24c90>"
      ]
     },
     "metadata": {},
     "output_type": "display_data"
    }
   ],
   "source": [
    "Z = np.linspace(0.05,5.0,100)\n",
    "plt.plot(1/(1.+Z),M0(Z,5e5,0.05))\n",
    "plt.yscale('log')"
   ]
  },
  {
   "cell_type": "markdown",
   "metadata": {},
   "source": [
    "Then use the SMHM relation of Behroozi (extrapolated out of its comfort zone):"
   ]
  },
  {
   "cell_type": "code",
   "execution_count": 11,
   "metadata": {
    "collapsed": true
   },
   "outputs": [],
   "source": [
    "def ms_to_mh_behroozi(ms,m1=10.72,m1_a=0.55,m0=12.35,m0_a=0.28,beta=0.44,\n",
    "                      beta_a=0.18,delta=0.57,delta_a=0.17,gamma=1.56,gamma_a=2.51,\n",
    "                      z=0):\n",
    "    r\"\"\"\n",
    "    The SMHM relation, M_h(M_s) from Behroozi, Conroy, Weschler 2010.\n",
    "\n",
    "    Parameters\n",
    "    ----------\n",
    "    ms : float or array_like\n",
    "        The stellar masses to be evaluated -- log_10(M_sun/h)\n",
    "\n",
    "    m1, m1_a : float\n",
    "        The (log10) mass at which the halo mass is exactly M0. M1_a is its\n",
    "        evolution parameter.\n",
    "\n",
    "    m0, m0_a : float\n",
    "        The normalisation mass (and its evolution parameter). In log10.\n",
    "\n",
    "    beta, beta_a : float\n",
    "        The slope of the relation at low stellar mass.\n",
    "\n",
    "    delta, delta_a : float\n",
    "        Controls how rapidly the relation climbs at high mass. 0 for power law,\n",
    "        1 for pure exponential. Should be in between.\n",
    "\n",
    "    gamma, gamma_a : float\n",
    "        Controls the sharpness of the turnover from low-mass power-law to high-mass\n",
    "        growth.\n",
    "\n",
    "    z : float\n",
    "        Redshift.\n",
    "\n",
    "    Notes\n",
    "    -----\n",
    "    The form is defined as\n",
    "\n",
    "    .. math :: \\log_{10}m_h = \\log_{10}M_1 + \\beta \\log_{10}\\left(\\frac{m_\\star}{M_\\star}\\right) +\n",
    "    \\frac{\\left(\\frac{m_\\star}{M_\\star}\\right)^\\delta}{1+\\left(\\frac{m_\\star}{M_\\star}\\right)^{-\\gamma}}-\\frac{1}{2}\n",
    "    \"\"\"\n",
    "    # Get evolution of parameters\n",
    "    a=1./(1.+z)\n",
    "    m1 += m1_a*(a-1)\n",
    "    m0 += m0_a*(a-1)\n",
    "    beta += beta_a*(a-1)\n",
    "    delta += delta_a*(a-1)\n",
    "    gamma += gamma_a*(a-1)\n",
    "\n",
    "    logx = ms - m1\n",
    "    x = 10**logx\n",
    "    return m0 + beta*logx + x**delta/(1+x**-gamma) - 0.5"
   ]
  },
  {
   "cell_type": "code",
   "execution_count": 14,
   "metadata": {
    "collapsed": false
   },
   "outputs": [
    {
     "name": "stdout",
     "output_type": "stream",
     "text": [
      "[  5.69897      8.6410737    9.38187056   9.80848199  10.10651174\n",
      "  10.33487606] [  9.68175019  11.10794204  11.55518929  11.84360198  12.03257959\n",
      "  12.15126756]\n"
     ]
    }
   ],
   "source": [
    "Z = np.array([0.05,1.,2.,3.,4.,5.])\n",
    "ms0 = np.log10(M0(Z,5e5,0.05).value)\n",
    "mmin = ms_to_mh_behroozi(ms0,z=Z)\n",
    "print ms0,mmin"
   ]
  },
  {
   "cell_type": "code",
   "execution_count": 20,
   "metadata": {
    "collapsed": true
   },
   "outputs": [],
   "source": [
    "def mmin_z(z,m0_0,z0):\n",
    "    m0 = np.log10(M0(z,m0_0,z0).value)\n",
    "    return ms_to_mh_behroozi(m0,z=z)"
   ]
  },
  {
   "cell_type": "markdown",
   "metadata": {},
   "source": [
    "What about angle?"
   ]
  },
  {
   "cell_type": "code",
   "execution_count": 16,
   "metadata": {
    "collapsed": false
   },
   "outputs": [
    {
     "data": {
      "text/latex": [
       "$1697.5794 \\; \\mathrm{Mpc}$"
      ],
      "text/plain": [
       "<Quantity 1697.5793543185043 Mpc>"
      ]
     },
     "execution_count": 16,
     "metadata": {},
     "output_type": "execute_result"
    }
   ],
   "source": [
    "Planck13.angular_diameter_distance(1.0)"
   ]
  },
  {
   "cell_type": "code",
   "execution_count": 17,
   "metadata": {
    "collapsed": true
   },
   "outputs": [],
   "source": [
    "def r(z,r0,z0):\n",
    "    return r0*Planck13.angular_diameter_distance(z)/Planck13.angular_diameter_distance(z0)"
   ]
  },
  {
   "cell_type": "code",
   "execution_count": 19,
   "metadata": {
    "collapsed": false
   },
   "outputs": [
    {
     "data": {
      "text/plain": [
       "[<matplotlib.lines.Line2D at 0x10a03e6d0>]"
      ]
     },
     "execution_count": 19,
     "metadata": {},
     "output_type": "execute_result"
    },
    {
     "data": {
      "image/png": "[encoded data removed]",
      "text/plain": [
       "<matplotlib.figure.Figure at 0x109617150>"
      ]
     },
     "metadata": {},
     "output_type": "display_data"
    }
   ],
   "source": [
    "plt.plot(Z,r(Z,0.001,0.05))"
   ]
  },
  {
   "cell_type": "code",
   "execution_count": null,
   "metadata": {
    "collapsed": true
   },
   "outputs": [],
   "source": []
  }
 ],
 "metadata": {
  "kernelspec": {
   "display_name": "Python 2",
   "language": "python",
   "name": "python2"
  },
  "language_info": {
   "codemirror_mode": {
    "name": "ipython",
    "version": 2
   },
   "file_extension": ".py",
   "mimetype": "text/x-python",
   "name": "python",
   "nbconvert_exporter": "python",
   "pygments_lexer": "ipython2",
   "version": "2.7.10"
  }
 },
 "nbformat": 4,
 "nbformat_minor": 0
}
