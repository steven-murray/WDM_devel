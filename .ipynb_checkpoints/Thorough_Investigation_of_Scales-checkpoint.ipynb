{
 "cells": [
  {
   "cell_type": "markdown",
   "metadata": {},
   "source": [
    "# Investigation of Effects of WDM on 2PCF in different regimes"
   ]
  },
  {
   "cell_type": "markdown",
   "metadata": {},
   "source": [
    "In this notebook, we set out to check out the effects of WDM on three different regimes of the correlation function: the totally 1-halo part, the intermediate part, and the 2-halo part. We want to check if everything makes sense, and detect any features that may permit fitting the WDM mass."
   ]
  },
  {
   "cell_type": "code",
   "execution_count": 3,
   "metadata": {
    "collapsed": false
   },
   "outputs": [
    {
     "name": "stdout",
     "output_type": "stream",
     "text": [
      "Populating the interactive namespace from numpy and matplotlib\n"
     ]
    }
   ],
   "source": [
    "%pylab inline\n",
    "from halomod.wdm import HaloModelWDM\n",
    "from copy import deepcopy"
   ]
  },
  {
   "cell_type": "markdown",
   "metadata": {},
   "source": [
    "## Setup"
   ]
  },
  {
   "cell_type": "markdown",
   "metadata": {},
   "source": [
    "We basically use what we would consider to be the best components available currently: a mass function defined by Schneider+13 using the Sharp-$k$ formalism (updated to Schneider+14 parameters), NFW profile with Duffy et. a. CM relation (modified to WDM), and a bias model from Tinker+10.\n",
    "\n",
    "Additionally, we improve the halo exclusion model compared to Schneider, using instead the Ng-Matched approach of Tinker+05. Finally, we use a very simple HOD parameterisation with 3 parameters, and this is just because we want to keep things simple on this side of things."
   ]
  },
  {
   "cell_type": "code",
   "execution_count": 2,
   "metadata": {
    "collapsed": true
   },
   "outputs": [],
   "source": [
    "wdm = HaloModelWDM(scale_dependent_bias=\"Tinker_SD05\",takahashi=True,mf_fit=\"SMT\",z=0,fsig_params={\"a\":1},\n",
    "                filter=\"SharpK\",filter_params={\"c\":2.5},cm_relation=\"Duffy\",hod_model=\"Zehavi05\",\n",
    "                hod_params={\"alpha\":1.214,\"M_1\":13.396,\"M_min\":12.0478},halo_exclusion=\"NgMatched_\",\n",
    "                _hc_spectrum=\"nonlinear\",wdm_mass=0.1)"
   ]
  },
  {
   "cell_type": "markdown",
   "metadata": {},
   "source": [
    "As our \"CDM\" model, we use a WDM model with very high particle mass. This should alleviate any small numerical differences just by using the transfer function."
   ]
  },
  {
   "cell_type": "code",
   "execution_count": 4,
   "metadata": {
    "collapsed": true
   },
   "outputs": [],
   "source": [
    "cdm = deepcopy(wdm)\n",
    "cdm.update(wdm_mass=10000.0)"
   ]
  },
  {
   "cell_type": "markdown",
   "metadata": {},
   "source": [
    "## 2-halo Term"
   ]
  },
  {
   "cell_type": "markdown",
   "metadata": {},
   "source": [
    "For the 2-halo term, let's use linear space, and set up our scales:"
   ]
  },
  {
   "cell_type": "code",
   "execution_count": 5,
   "metadata": {
    "collapsed": true
   },
   "outputs": [],
   "source": [
    "wdm.rlog=False\n",
    "wdm.update(rmin=70.0,rmax=115.0,rnum=40.0)\n",
    "cdm.update(rmin=70.0,rmax=115.0,rnum=40.0)"
   ]
  },
  {
   "cell_type": "markdown",
   "metadata": {},
   "source": [
    "First, lets just make a raw plot, changing just $m_x$. "
   ]
  },
  {
   "cell_type": "code",
   "execution_count": null,
   "metadata": {
    "collapsed": true
   },
   "outputs": [],
   "source": [
    "fig,ax = subplots(2,1,sharex=True,subplot_kw=dict(xscale='log'),\n",
    "                 gridspec_kw={\"height_ratios\":[2.5,1],\"hspace\":0.05},figsize=(7,7))\n",
    "\n",
    "ax[0].plot(cdm.r,cdm.corr_gg,label=\"CDM\",color=\"b\")\n",
    "ax[1].plot(cdm.r,np.ones_like(cdm.r),color=\"b\")\n",
    "\n",
    "ax[0].plot(wdm.r,wdm.corr_gg,label=\"WDM (1000 keV)\",color=\"g\")\n",
    "ax[1].plot(wdm.r,wdm.corr_gg/cdm.corr_gg,color=\"g\")\n",
    "\n",
    "ax[1].set_xlabel(r\"$r [Mpc/h]$\")\n",
    "ax[0].set_ylabel(r\"$\\xi(r)$\")\n",
    "ax[1].set_ylabel(r\"$\\xi(r)/\\xi_{CDM}(r)$\")\n",
    "ax[0].legend(loc=0)\n",
    "ax[0].set_yscale('log')"
   ]
  }
 ],
 "metadata": {
  "kernelspec": {
   "display_name": "Python 2",
   "language": "python",
   "name": "python2"
  },
  "language_info": {
   "codemirror_mode": {
    "name": "ipython",
    "version": 2
   },
   "file_extension": ".py",
   "mimetype": "text/x-python",
   "name": "python",
   "nbconvert_exporter": "python",
   "pygments_lexer": "ipython2",
   "version": "2.7.10"
  }
 },
 "nbformat": 4,
 "nbformat_minor": 0
}
