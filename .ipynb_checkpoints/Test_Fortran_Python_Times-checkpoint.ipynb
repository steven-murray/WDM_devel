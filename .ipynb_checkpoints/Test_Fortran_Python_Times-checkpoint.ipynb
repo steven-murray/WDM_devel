{
 "cells": [
  {
   "cell_type": "code",
   "execution_count": 1,
   "metadata": {
    "collapsed": false
   },
   "outputs": [
    {
     "name": "stdout",
     "output_type": "stream",
     "text": [
      "Populating the interactive namespace from numpy and matplotlib\n"
     ]
    }
   ],
   "source": [
    "%pylab inline"
   ]
  },
  {
   "cell_type": "code",
   "execution_count": 2,
   "metadata": {
    "collapsed": false
   },
   "outputs": [],
   "source": [
    "from halomod import halo_model\n",
    "from halomod.fort.routines import hod_routines as fort\n",
    "from scipy.integrate import trapz,simps"
   ]
  },
  {
   "cell_type": "code",
   "execution_count": 12,
   "metadata": {
    "collapsed": false
   },
   "outputs": [],
   "source": [
    "h = halo_model.HaloModel(rnum=50,halo_exclusion=\"NoExclusion\")"
   ]
  },
  {
   "cell_type": "markdown",
   "metadata": {},
   "source": [
    "## P(k) 1h s-s"
   ]
  },
  {
   "cell_type": "markdown",
   "metadata": {},
   "source": [
    "#### FORTRAN"
   ]
  },
  {
   "cell_type": "code",
   "execution_count": 4,
   "metadata": {
    "collapsed": true
   },
   "outputs": [],
   "source": [
    "def fortran_pk_1h_ss():\n",
    "    ## USE FORTRAN\n",
    "    u = h.profile.u(h.k, h.M, norm='m')\n",
    "    p = fort.power_gal_1h_ss(nlnk=len(h.k),\n",
    "                             nm=len(h.M),\n",
    "                             u=np.asfortranarray(u),\n",
    "                             dndm=h.dndm.value,\n",
    "                             nsat=h.n_sat,\n",
    "                             ncen=h.n_cen,\n",
    "                             mass=h.M.value,\n",
    "                             central=h.hod._central)\n",
    "    return p"
   ]
  },
  {
   "cell_type": "code",
   "execution_count": 5,
   "metadata": {
    "collapsed": false
   },
   "outputs": [
    {
     "name": "stdout",
     "output_type": "stream",
     "text": [
      "The slowest run took 53.20 times longer than the fastest. This could mean that an intermediate result is being cached \n",
      "1 loops, best of 3: 63.7 ms per loop\n"
     ]
    }
   ],
   "source": [
    "%timeit fortran_pk_1h_ss()"
   ]
  },
  {
   "cell_type": "markdown",
   "metadata": {},
   "source": [
    "#### Python"
   ]
  },
  {
   "cell_type": "code",
   "execution_count": 6,
   "metadata": {
    "collapsed": true
   },
   "outputs": [],
   "source": [
    "def python_pk_1h_ss():\n",
    "    u = h.profile.u(h.k, h.M, norm='m')\n",
    "    integ = u**2 * h.dndm * h.M * h.n_sat**2\n",
    "    if h.hod._central:\n",
    "        integ *= h.n_cen\n",
    "\n",
    "    p = trapz(integ,dx=h.dlog10m*np.log(10))\n",
    "    return p"
   ]
  },
  {
   "cell_type": "code",
   "execution_count": 7,
   "metadata": {
    "collapsed": false
   },
   "outputs": [
    {
     "name": "stdout",
     "output_type": "stream",
     "text": [
      "10 loops, best of 3: 70.7 ms per loop\n"
     ]
    }
   ],
   "source": [
    "%timeit python_pk_1h_ss()"
   ]
  },
  {
   "cell_type": "markdown",
   "metadata": {},
   "source": [
    "#### Test Equivalence"
   ]
  },
  {
   "cell_type": "code",
   "execution_count": 8,
   "metadata": {
    "collapsed": false
   },
   "outputs": [
    {
     "name": "stdout",
     "output_type": "stream",
     "text": [
      "0.998889847714 h3 / Mpc3 1.00147130351 h3 / Mpc3 1.00000033314 h3 / Mpc3\n"
     ]
    }
   ],
   "source": [
    "ratio = python_pk_1h_ss()/fortran_pk_1h_ss()\n",
    "print ratio.min(), ratio.max(), nanmean(ratio)"
   ]
  },
  {
   "cell_type": "markdown",
   "metadata": {},
   "source": [
    "## xi(r) 1h cs"
   ]
  },
  {
   "cell_type": "markdown",
   "metadata": {},
   "source": [
    "#### FORTRAN"
   ]
  },
  {
   "cell_type": "code",
   "execution_count": 9,
   "metadata": {
    "collapsed": true
   },
   "outputs": [],
   "source": [
    "def fortran_xir_1h_cs():\n",
    "    rho = h.profile.rho(h.r, h.M, norm=\"m\")\n",
    "    c = fort.corr_gal_1h_cs(nr=len(h.r),\n",
    "                        nm=len(h.M),\n",
    "                        r=h.r.value,\n",
    "                        mass=h.M.value,\n",
    "                        dndm=h.dndm.value,\n",
    "                        ncen=h.n_cen,\n",
    "                        nsat=h.n_sat,\n",
    "                        rho=np.asfortranarray(rho),\n",
    "                        mean_dens=h.mean_density0.value,\n",
    "                        delta_halo=h.delta_halo) * h.mean_gal_den.unit ** 2\n",
    "    return c"
   ]
  },
  {
   "cell_type": "code",
   "execution_count": 10,
   "metadata": {
    "collapsed": false
   },
   "outputs": [
    {
     "name": "stdout",
     "output_type": "stream",
     "text": [
      "The slowest run took 13.38 times longer than the fastest. This could mean that an intermediate result is being cached \n",
      "100 loops, best of 3: 2.24 ms per loop\n"
     ]
    }
   ],
   "source": [
    "%timeit fortran_xir_1h_cs()"
   ]
  },
  {
   "cell_type": "markdown",
   "metadata": {},
   "source": [
    "#### Python"
   ]
  },
  {
   "cell_type": "code",
   "execution_count": 11,
   "metadata": {
    "collapsed": false
   },
   "outputs": [],
   "source": [
    "def python_xir_1h_cs():\n",
    "    rho = h.profile.rho(h.r, h.M, norm=\"m\")\n",
    "    mmin = 4*np.pi * h.r**3 * h.mean_density * h.delta_halo/3\n",
    "    mask = np.repeat(h.M,len(h.r)).reshape(len(h.M),len(h.r)) < mmin\n",
    "    integ = h.dndm * 2 * h.n_cen * h.n_sat * rho * h.M\n",
    "    integ[mask.T] = 0\n",
    "    return trapz(integ,dx=h.dlog10m*np.log(10))"
   ]
  },
  {
   "cell_type": "code",
   "execution_count": 12,
   "metadata": {
    "collapsed": false
   },
   "outputs": [
    {
     "name": "stdout",
     "output_type": "stream",
     "text": [
      "100 loops, best of 3: 4 ms per loop\n"
     ]
    }
   ],
   "source": [
    "%timeit python_xir_1h_cs()"
   ]
  },
  {
   "cell_type": "markdown",
   "metadata": {},
   "source": [
    "#### Test Equivalence"
   ]
  },
  {
   "cell_type": "code",
   "execution_count": 13,
   "metadata": {
    "collapsed": false
   },
   "outputs": [
    {
     "name": "stdout",
     "output_type": "stream",
     "text": [
      "0.75021624166 1.49997868046 1.01344529707\n"
     ]
    },
    {
     "name": "stderr",
     "output_type": "stream",
     "text": [
      "/Users/Steven/anaconda/lib/python2.7/site-packages/astropy/units/quantity.py:785: RuntimeWarning: invalid value encountered in true_divide\n",
      "  return np.true_divide(self, other)\n"
     ]
    }
   ],
   "source": [
    "ratio = python_xir_1h_cs()/fortran_xir_1h_cs()\n",
    "print nanmin(ratio), nanmax(ratio), nanmean(ratio)"
   ]
  },
  {
   "cell_type": "markdown",
   "metadata": {},
   "source": [
    "## xi(r) 1h Total"
   ]
  },
  {
   "cell_type": "markdown",
   "metadata": {},
   "source": [
    "#### FORTRAN"
   ]
  },
  {
   "cell_type": "code",
   "execution_count": 14,
   "metadata": {
    "collapsed": true
   },
   "outputs": [],
   "source": [
    "def fortran_xir_1h():        \n",
    "    rho = h.profile.rho(h.r, h.M, norm=\"m\")\n",
    "    lam = h.profile.lam(h.r, h.M, norm=\"m\")\n",
    "    c = fort.corr_gal_1h(nr=len(h.r),\n",
    "                         nm=len(h.M),\n",
    "                         r=h.r.value,\n",
    "                         mass=h.M.value,\n",
    "                         dndm=h.dndm.value,\n",
    "                         ncen=h.n_cen,\n",
    "                         nsat=h.n_sat,\n",
    "                         rho=np.asfortranarray(rho),\n",
    "                         lam=np.asfortranarray(lam),\n",
    "                         central=h.hod._central,\n",
    "                         mean_dens=h.mean_density0.value,\n",
    "                         delta_halo=h.delta_halo) * h.mean_gal_den.unit ** 2\n",
    "    return c"
   ]
  },
  {
   "cell_type": "code",
   "execution_count": 15,
   "metadata": {
    "collapsed": false
   },
   "outputs": [
    {
     "name": "stdout",
     "output_type": "stream",
     "text": [
      "100 loops, best of 3: 11.7 ms per loop\n"
     ]
    }
   ],
   "source": [
    "%timeit fortran_xir_1h()"
   ]
  },
  {
   "cell_type": "markdown",
   "metadata": {},
   "source": [
    "#### Python"
   ]
  },
  {
   "cell_type": "code",
   "execution_count": 16,
   "metadata": {
    "collapsed": true
   },
   "outputs": [],
   "source": [
    "def python_xir_1h(): \n",
    "    rho = h.profile.rho(h.r, h.M, norm=\"m\")\n",
    "    lam = h.profile.lam(h.r, h.M, norm=\"m\")\n",
    "    \n",
    "    integ = h.dndm * h.n_sat**2 * lam\n",
    "    if h.hod._central:\n",
    "        integ *= h.n_cen\n",
    "\n",
    "    mmin = 4*np.pi*h.r**3*h.mean_density*h.delta_halo/3\n",
    "    mask = np.repeat(h.M,len(h.r)).reshape(len(h.M),len(h.r)) > mmin\n",
    "    #print np.sum(mask,axis=0)\n",
    "    integ2 = h.dndm*2 * h.n_cen*h.n_sat*rho\n",
    "    integ[mask.T] += integ2[mask.T]\n",
    "\n",
    "    integ *= h.M\n",
    "\n",
    "    c = simps(integ,dx=h.dlog10m*np.log(10))\n",
    "    return c"
   ]
  },
  {
   "cell_type": "code",
   "execution_count": 17,
   "metadata": {
    "collapsed": false
   },
   "outputs": [
    {
     "name": "stdout",
     "output_type": "stream",
     "text": [
      "100 loops, best of 3: 11.1 ms per loop\n"
     ]
    }
   ],
   "source": [
    "%timeit python_xir_1h()"
   ]
  },
  {
   "cell_type": "markdown",
   "metadata": {},
   "source": [
    "#### Test Equivalence"
   ]
  },
  {
   "cell_type": "code",
   "execution_count": 18,
   "metadata": {
    "collapsed": false
   },
   "outputs": [
    {
     "name": "stdout",
     "output_type": "stream",
     "text": [
      "0.752327444668 Mpc6 / h6 1.49993765741 Mpc6 / h6 1.01073095601 Mpc6 / h6\n"
     ]
    },
    {
     "name": "stderr",
     "output_type": "stream",
     "text": [
      "/Users/Steven/anaconda/lib/python2.7/site-packages/astropy/units/quantity.py:802: RuntimeWarning: invalid value encountered in divide\n",
      "  return np.divide(other, self)\n"
     ]
    }
   ],
   "source": [
    "ratio = python_xir_1h()/fortran_xir_1h()\n",
    "print nanmin(ratio), nanmax(ratio), nanmean(ratio)"
   ]
  },
  {
   "cell_type": "code",
   "execution_count": 19,
   "metadata": {
    "collapsed": false
   },
   "outputs": [
    {
     "data": {
      "image/png": "[encoded data removed]",
      "text/plain": [
       "<matplotlib.figure.Figure at 0x10c893a10>"
      ]
     },
     "metadata": {},
     "output_type": "display_data"
    }
   ],
   "source": [
    "plot(h.r,ratio)\n",
    "xscale('log')"
   ]
  },
  {
   "cell_type": "code",
   "execution_count": 20,
   "metadata": {
    "collapsed": false
   },
   "outputs": [
    {
     "data": {
      "image/png": "[encoded data removed]",
      "text/plain": [
       "<matplotlib.figure.Figure at 0x10cef9250>"
      ]
     },
     "metadata": {},
     "output_type": "display_data"
    }
   ],
   "source": [
    "plot(h.r,python_xir_1h())\n",
    "plot(h.r,fortran_xir_1h())\n",
    "xscale('log')\n",
    "yscale('log')"
   ]
  },
  {
   "cell_type": "markdown",
   "metadata": {
    "collapsed": true
   },
   "source": [
    "## Two-halo Term"
   ]
  },
  {
   "cell_type": "code",
   "execution_count": 10,
   "metadata": {
    "collapsed": true
   },
   "outputs": [],
   "source": [
    "from halomod.twohalo_wrapper import twohalo_wrapper as thalo\n",
    "def fortran_2halo():       \n",
    "    u = h.profile.u(h.k, h.M , norm='m')\n",
    "    return thalo(\"None\", True,\n",
    "                 h.M.value, h.bias, h.n_tot,\n",
    "                 h.dndm.value, np.log(h.k.value),\n",
    "                 h._power_halo_centres.value, u, h.r.value, h.corr_mm_base,\n",
    "                 h.mean_gal_den.value, h.delta_halo,\n",
    "                 h.mean_density.value, h.nthreads_2halo)\n",
    "    "
   ]
  },
  {
   "cell_type": "code",
   "execution_count": 11,
   "metadata": {
    "collapsed": false
   },
   "outputs": [
    {
     "name": "stdout",
     "output_type": "stream",
     "text": [
      "10 loops, best of 3: 76.3 ms per loop\n"
     ]
    }
   ],
   "source": [
    "%timeit fortran_2halo()"
   ]
  },
  {
   "cell_type": "code",
   "execution_count": 5,
   "metadata": {
    "collapsed": false
   },
   "outputs": [],
   "source": [
    "from halomod import tools\n",
    "def python_2halo():\n",
    "    ### POWER PART\n",
    "    u = h.profile.u(h.k,h.M,norm=\"m\")\n",
    "    if h.scale_dependent_bias is not None:\n",
    "        bias = np.outer(h.sd_bias.bias_scale(),h.bias)\n",
    "    else:\n",
    "        bias = h.bias\n",
    "    inst = h.halo_exclusion(m=h.M,density=h.n_tot*h.dndm,\n",
    "                            I=h.n_tot*h.dndm*u/h.mean_gal_den,\n",
    "                            bias=bias,r=h.r,delta_halo=h.delta_halo,\n",
    "                            mean_density=h.mean_density)\n",
    "\n",
    "    if hasattr(inst,\"density_mod\"):\n",
    "        __density_mod = inst.density_mod\n",
    "    else:\n",
    "        __density_mod = h.mean_gal_den\n",
    "\n",
    "    power_gg_2h= inst.integrate() * h._power_halo_centres\n",
    "\n",
    "    if len(power_gg_2h.shape)==2:\n",
    "        corr = tools.power_to_corr_ogata_matrix(power_gg_2h,h.k.value,h.r)\n",
    "    else:\n",
    "        corr = tools.power_to_corr_ogata(power_gg_2h,h.k.value,h.r)\n",
    "\n",
    "    ## modify by the new density\n",
    "    return (__density_mod/h.mean_gal_den)**2 * (1+corr)-1"
   ]
  },
  {
   "cell_type": "code",
   "execution_count": 6,
   "metadata": {
    "collapsed": false
   },
   "outputs": [
    {
     "name": "stdout",
     "output_type": "stream",
     "text": [
      "The slowest run took 6.13 times longer than the fastest. This could mean that an intermediate result is being cached \n",
      "1 loops, best of 3: 1.05 s per loop\n"
     ]
    }
   ],
   "source": [
    "%timeit python_2halo()"
   ]
  },
  {
   "cell_type": "markdown",
   "metadata": {},
   "source": [
    "### Equivalence Test"
   ]
  },
  {
   "cell_type": "code",
   "execution_count": 13,
   "metadata": {
    "collapsed": false
   },
   "outputs": [
    {
     "ename": "ValueError",
     "evalue": "operands could not be broadcast together with shapes (50,638) (567,) ",
     "output_type": "error",
     "traceback": [
      "\u001b[0;31m---------------------------------------------------------------------------\u001b[0m",
      "\u001b[0;31mValueError\u001b[0m                                Traceback (most recent call last)",
      "\u001b[0;32m<ipython-input-13-e75a923f9585>\u001b[0m in \u001b[0;36m<module>\u001b[0;34m()\u001b[0m\n\u001b[0;32m----> 1\u001b[0;31m \u001b[0mpy\u001b[0m \u001b[0;34m=\u001b[0m \u001b[0mpython_2halo\u001b[0m\u001b[0;34m(\u001b[0m\u001b[0;34m)\u001b[0m\u001b[0;34m\u001b[0m\u001b[0m\n\u001b[0m\u001b[1;32m      2\u001b[0m \u001b[0mfort\u001b[0m \u001b[0;34m=\u001b[0m \u001b[0mfortran_2halo\u001b[0m\u001b[0;34m(\u001b[0m\u001b[0;34m)\u001b[0m\u001b[0;34m\u001b[0m\u001b[0m\n\u001b[1;32m      3\u001b[0m \u001b[0;34m\u001b[0m\u001b[0m\n\u001b[1;32m      4\u001b[0m \u001b[0mfig\u001b[0m\u001b[0;34m,\u001b[0m\u001b[0max\u001b[0m \u001b[0;34m=\u001b[0m \u001b[0mplt\u001b[0m\u001b[0;34m.\u001b[0m\u001b[0msubplots\u001b[0m\u001b[0;34m(\u001b[0m\u001b[0;36m2\u001b[0m\u001b[0;34m,\u001b[0m\u001b[0;36m1\u001b[0m\u001b[0;34m,\u001b[0m\u001b[0msharex\u001b[0m\u001b[0;34m=\u001b[0m\u001b[0mTrue\u001b[0m\u001b[0;34m,\u001b[0m\u001b[0msubplot_kw\u001b[0m\u001b[0;34m=\u001b[0m\u001b[0;34m{\u001b[0m\u001b[0;34m\"xscale\"\u001b[0m\u001b[0;34m:\u001b[0m\u001b[0;34m\"log\"\u001b[0m\u001b[0;34m}\u001b[0m\u001b[0;34m,\u001b[0m\u001b[0mgridspec_kw\u001b[0m\u001b[0;34m=\u001b[0m\u001b[0;34m{\u001b[0m\u001b[0;34m\"height_ratios\"\u001b[0m\u001b[0;34m:\u001b[0m\u001b[0;34m(\u001b[0m\u001b[0;36m2.5\u001b[0m\u001b[0;34m,\u001b[0m\u001b[0;36m1\u001b[0m\u001b[0;34m)\u001b[0m\u001b[0;34m}\u001b[0m\u001b[0;34m)\u001b[0m\u001b[0;34m\u001b[0m\u001b[0m\n\u001b[1;32m      5\u001b[0m \u001b[0max\u001b[0m\u001b[0;34m[\u001b[0m\u001b[0;36m0\u001b[0m\u001b[0;34m]\u001b[0m\u001b[0;34m.\u001b[0m\u001b[0mplot\u001b[0m\u001b[0;34m(\u001b[0m\u001b[0mh\u001b[0m\u001b[0;34m.\u001b[0m\u001b[0mr\u001b[0m\u001b[0;34m,\u001b[0m\u001b[0mpy\u001b[0m\u001b[0;34m,\u001b[0m\u001b[0mlabel\u001b[0m\u001b[0;34m=\u001b[0m\u001b[0;34m\"python\"\u001b[0m\u001b[0;34m)\u001b[0m\u001b[0;34m\u001b[0m\u001b[0m\n",
      "\u001b[0;32m<ipython-input-5-ba3a5d0218a3>\u001b[0m in \u001b[0;36mpython_2halo\u001b[0;34m()\u001b[0m\n\u001b[1;32m     17\u001b[0m         \u001b[0m__density_mod\u001b[0m \u001b[0;34m=\u001b[0m \u001b[0mh\u001b[0m\u001b[0;34m.\u001b[0m\u001b[0mmean_gal_den\u001b[0m\u001b[0;34m\u001b[0m\u001b[0m\n\u001b[1;32m     18\u001b[0m \u001b[0;34m\u001b[0m\u001b[0m\n\u001b[0;32m---> 19\u001b[0;31m     \u001b[0mpower_gg_2h\u001b[0m\u001b[0;34m=\u001b[0m \u001b[0minst\u001b[0m\u001b[0;34m.\u001b[0m\u001b[0mintegrate\u001b[0m\u001b[0;34m(\u001b[0m\u001b[0;34m)\u001b[0m \u001b[0;34m*\u001b[0m \u001b[0mh\u001b[0m\u001b[0;34m.\u001b[0m\u001b[0m_power_halo_centres\u001b[0m\u001b[0;34m\u001b[0m\u001b[0m\n\u001b[0m\u001b[1;32m     20\u001b[0m \u001b[0;34m\u001b[0m\u001b[0m\n\u001b[1;32m     21\u001b[0m     \u001b[0;32mif\u001b[0m \u001b[0mlen\u001b[0m\u001b[0;34m(\u001b[0m\u001b[0mpower_gg_2h\u001b[0m\u001b[0;34m.\u001b[0m\u001b[0mshape\u001b[0m\u001b[0;34m)\u001b[0m\u001b[0;34m==\u001b[0m\u001b[0;36m2\u001b[0m\u001b[0;34m:\u001b[0m\u001b[0;34m\u001b[0m\u001b[0m\n",
      "\u001b[0;32m/Users/Steven/anaconda/lib/python2.7/site-packages/astropy/units/quantity.pyc\u001b[0m in \u001b[0;36m__mul__\u001b[0;34m(self, other)\u001b[0m\n\u001b[1;32m    759\u001b[0m             \u001b[0;32mreturn\u001b[0m \u001b[0mself\u001b[0m\u001b[0;34m.\u001b[0m\u001b[0m_new_view\u001b[0m\u001b[0;34m(\u001b[0m\u001b[0mself\u001b[0m\u001b[0;34m.\u001b[0m\u001b[0mcopy\u001b[0m\u001b[0;34m(\u001b[0m\u001b[0;34m)\u001b[0m\u001b[0;34m,\u001b[0m \u001b[0mother\u001b[0m \u001b[0;34m*\u001b[0m \u001b[0mself\u001b[0m\u001b[0;34m.\u001b[0m\u001b[0munit\u001b[0m\u001b[0;34m)\u001b[0m\u001b[0;34m\u001b[0m\u001b[0m\n\u001b[1;32m    760\u001b[0m \u001b[0;34m\u001b[0m\u001b[0m\n\u001b[0;32m--> 761\u001b[0;31m         \u001b[0;32mreturn\u001b[0m \u001b[0mnp\u001b[0m\u001b[0;34m.\u001b[0m\u001b[0mmultiply\u001b[0m\u001b[0;34m(\u001b[0m\u001b[0mself\u001b[0m\u001b[0;34m,\u001b[0m \u001b[0mother\u001b[0m\u001b[0;34m)\u001b[0m\u001b[0;34m\u001b[0m\u001b[0m\n\u001b[0m\u001b[1;32m    762\u001b[0m \u001b[0;34m\u001b[0m\u001b[0m\n\u001b[1;32m    763\u001b[0m     \u001b[0;32mdef\u001b[0m \u001b[0m__imul__\u001b[0m\u001b[0;34m(\u001b[0m\u001b[0mself\u001b[0m\u001b[0;34m,\u001b[0m \u001b[0mother\u001b[0m\u001b[0;34m)\u001b[0m\u001b[0;34m:\u001b[0m\u001b[0;34m\u001b[0m\u001b[0m\n",
      "\u001b[0;31mValueError\u001b[0m: operands could not be broadcast together with shapes (50,638) (567,) "
     ]
    }
   ],
   "source": [
    "py = python_2halo()\n",
    "fort = fortran_2halo()\n",
    "\n",
    "fig,ax = plt.subplots(2,1,sharex=True,subplot_kw={\"xscale\":\"log\"},gridspec_kw={\"height_ratios\":(2.5,1)})\n",
    "ax[0].plot(h.r,py,label=\"python\")\n",
    "ax[0].plot(h.r,fort,label=\"fortran\")\n",
    "#ax[0].plot(r,anl,label=\"analytic\")\n",
    "ax[0].legend(loc=0)\n",
    "\n",
    "ax[1].plot(h.r,py/fort)"
   ]
  },
  {
   "cell_type": "code",
   "execution_count": 16,
   "metadata": {
    "collapsed": false
   },
   "outputs": [
    {
     "data": {
      "text/plain": [
       "638"
      ]
     },
     "execution_count": 16,
     "metadata": {},
     "output_type": "execute_result"
    }
   ],
   "source": [
    "len(h.M)"
   ]
  },
  {
   "cell_type": "code",
   "execution_count": 9,
   "metadata": {
    "collapsed": false
   },
   "outputs": [
    {
     "data": {
      "text/latex": [
       "$[-0.99976946,~-0.99976945,~-0.99976946,~-0.99976948,~-0.99976953,~-0.99976959,~-0.99976967,~-0.99976975,~-0.99976984,~-0.99976993,~-0.99977002,~-0.99977011,~-0.9997702,~-0.99977029,~-0.99977037,~-0.99977045,~-0.99977053,~-0.99977061,~-0.99977068,~-0.99977074,~-0.99977081,~-0.99977087,~-0.99977092,~-0.99977097,~-0.99977102,~-0.99977105,~-0.99977108,~-0.99977111,~-0.99977113,~-0.99977115,~-0.99977116,~-0.99977117,~-0.99977118,~-0.99977119,~-0.9997712,~-0.9997712,~-0.99977121,~-0.99977121,~-0.99977122,~-0.99977122,~-0.99977122,~-0.99977122,~-0.99977122,~-0.99977123,~-0.99977123,~-0.99977123,~-0.99977123,~-0.99977123,~-0.99977123,~-0.99977123] \\; \\mathrm{}$"
      ],
      "text/plain": [
       "<Quantity [-0.99976946,-0.99976945,-0.99976946,-0.99976948,-0.99976953,\n",
       "           -0.99976959,-0.99976967,-0.99976975,-0.99976984,-0.99976993,\n",
       "           -0.99977002,-0.99977011,-0.9997702 ,-0.99977029,-0.99977037,\n",
       "           -0.99977045,-0.99977053,-0.99977061,-0.99977068,-0.99977074,\n",
       "           -0.99977081,-0.99977087,-0.99977092,-0.99977097,-0.99977102,\n",
       "           -0.99977105,-0.99977108,-0.99977111,-0.99977113,-0.99977115,\n",
       "           -0.99977116,-0.99977117,-0.99977118,-0.99977119,-0.9997712 ,\n",
       "           -0.9997712 ,-0.99977121,-0.99977121,-0.99977122,-0.99977122,\n",
       "           -0.99977122,-0.99977122,-0.99977122,-0.99977123,-0.99977123,\n",
       "           -0.99977123,-0.99977123,-0.99977123,-0.99977123,-0.99977123]>"
      ]
     },
     "execution_count": 9,
     "metadata": {},
     "output_type": "execute_result"
    }
   ],
   "source": [
    "py"
   ]
  },
  {
   "cell_type": "code",
   "execution_count": 18,
   "metadata": {
    "collapsed": false
   },
   "outputs": [
    {
     "name": "stdout",
     "output_type": "stream",
     "text": [
      "\n",
      " "
     ]
    }
   ],
   "source": [
    "%prun -l halo_exclusion.py python_2halo()"
   ]
  },
  {
   "cell_type": "code",
   "execution_count": 8,
   "metadata": {
    "collapsed": false
   },
   "outputs": [],
   "source": [
    "import line_profiler\n",
    "%load_ext line_profiler"
   ]
  },
  {
   "cell_type": "code",
   "execution_count": 4,
   "metadata": {
    "collapsed": false
   },
   "outputs": [],
   "source": [
    "from halomod.halo_exclusion import NgMatched\n",
    "u = h.profile.u(h.k,h.M,norm=\"m\")\n",
    "if h.scale_dependent_bias is not None:\n",
    "    bias = np.outer(h.sd_bias.bias_scale(),h.bias)\n",
    "else:\n",
    "    bias = h.bias\n",
    "hexc = NgMatched(m=h.M,density=h.n_tot*h.dndm,\n",
    "                            I=h.n_tot*h.dndm*u/h.mean_gal_den,\n",
    "                            bias=bias,r=h.r,delta_halo=h.delta_halo,\n",
    "                            mean_density=h.mean_density)"
   ]
  },
  {
   "cell_type": "code",
   "execution_count": 16,
   "metadata": {
    "collapsed": true
   },
   "outputs": [],
   "source": [
    "def prob():\n",
    "    rvir = hexc.rvir\n",
    "    x = outer(hexc.r,1/np.add.outer(rvir,rvir))\n",
    "    x = (x-0.8)/0.29 #this is y but we re-use the memory\n",
    "    x =  3*x**2 - 2*x**3\n",
    "    np.clip(x,0,1,x)\n",
    "#    p[x<=0] = 0.0\n",
    "#    p[x>=1] = 1.0\n",
    "    return x"
   ]
  },
  {
   "cell_type": "code",
   "execution_count": 17,
   "metadata": {
    "collapsed": false
   },
   "outputs": [],
   "source": [
    "%lprun -f prob prob()"
   ]
  },
  {
   "cell_type": "code",
   "execution_count": 11,
   "metadata": {
    "collapsed": true
   },
   "outputs": [],
   "source": [
    "%lprun?"
   ]
  },
  {
   "cell_type": "code",
   "execution_count": 13,
   "metadata": {
    "collapsed": true
   },
   "outputs": [],
   "source": [
    "np.clip?1336314"
   ]
  },
  {
   "cell_type": "code",
   "execution_count": 23,
   "metadata": {
    "collapsed": true
   },
   "outputs": [],
   "source": [
    "from numba import jit\n",
    "\n",
    "def prob_():\n",
    "    rvir = hexc.rvir\n",
    "    return prob_inner_(hexc.r,rvir)\n",
    "\n",
    "@jit(nopython=True)\n",
    "def prob_inner_(r,rvir):\n",
    "    nrv = len(rvir)\n",
    "    out = np.ones((len(r),nrv,nrv))\n",
    "    for ir,rr in enumerate(r):\n",
    "        for irv, rv1 in enumerate(rvir):\n",
    "            for jrv in range(irv,nrv):\n",
    "                rv2 = rvir[jrv]\n",
    "                x = (rr/(rv1+rv2) - 0.8)/0.29\n",
    "                if x<=0:\n",
    "                    out[ir,irv,jrv] = 0\n",
    "                elif x>=1:\n",
    "                    out[ir,irv,jrv] = 1\n",
    "                else:\n",
    "                    out[ir,irv,jrv] = 3*x**2 - 2*x**3\n",
    "    return out"
   ]
  },
  {
   "cell_type": "code",
   "execution_count": 24,
   "metadata": {
    "collapsed": false
   },
   "outputs": [
    {
     "name": "stdout",
     "output_type": "stream",
     "text": [
      "1 loops, best of 3: 268 ms per loop\n"
     ]
    }
   ],
   "source": [
    "#%timeit prob()\n",
    "%timeit prob_()"
   ]
  },
  {
   "cell_type": "code",
   "execution_count": 11,
   "metadata": {
    "collapsed": false
   },
   "outputs": [
    {
     "data": {
      "text/plain": [
       "638"
      ]
     },
     "execution_count": 11,
     "metadata": {},
     "output_type": "execute_result"
    }
   ],
   "source": [
    "len(h.M)"
   ]
  },
  {
   "cell_type": "code",
   "execution_count": 12,
   "metadata": {
    "collapsed": false
   },
   "outputs": [
    {
     "data": {
      "text/plain": [
       "567"
      ]
     },
     "execution_count": 12,
     "metadata": {},
     "output_type": "execute_result"
    }
   ],
   "source": [
    "len(h.k)"
   ]
  },
  {
   "cell_type": "code",
   "execution_count": 13,
   "metadata": {
    "collapsed": false
   },
   "outputs": [
    {
     "data": {
      "text/plain": [
       "50"
      ]
     },
     "execution_count": 13,
     "metadata": {},
     "output_type": "execute_result"
    }
   ],
   "source": [
    "len(h.r)"
   ]
  },
  {
   "cell_type": "code",
   "execution_count": null,
   "metadata": {
    "collapsed": true
   },
   "outputs": [],
   "source": []
  }
 ],
 "metadata": {
  "kernelspec": {
   "display_name": "Python 2",
   "language": "python",
   "name": "python2"
  },
  "language_info": {
   "codemirror_mode": {
    "name": "ipython",
    "version": 2
   },
   "file_extension": ".py",
   "mimetype": "text/x-python",
   "name": "python",
   "nbconvert_exporter": "python",
   "pygments_lexer": "ipython2",
   "version": "2.7.10"
  }
 },
 "nbformat": 4,
 "nbformat_minor": 0
}
